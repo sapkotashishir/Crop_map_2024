{
 "cells": [
  {
   "cell_type": "code",
   "execution_count": null,
   "metadata": {},
   "outputs": [],
   "source": [
    "print('Shishir')"
   ]
  }
 ],
 "metadata": {
  "kernelspec": {
   "display_name": "DSM",
   "language": "python",
   "name": "dsm"
  },
  "language_info": {
   "name": "python",
   "version": "3.9.17"
  }
 },
 "nbformat": 4,
 "nbformat_minor": 2
}
